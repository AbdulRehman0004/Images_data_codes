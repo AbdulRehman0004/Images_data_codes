{
  "nbformat": 4,
  "nbformat_minor": 0,
  "metadata": {
    "colab": {
      "provenance": [],
      "mount_file_id": "11G1N-nOgjoGuRHARrdbTtGKJ6Yv20x0f",
      "authorship_tag": "ABX9TyOds4kvM2vOGq5teInaBrR4"
    },
    "kernelspec": {
      "name": "python3",
      "display_name": "Python 3"
    },
    "language_info": {
      "name": "python"
    }
  },
  "cells": [
    {
      "cell_type": "code",
      "execution_count": null,
      "metadata": {
        "id": "mQwv27OnJSKV"
      },
      "outputs": [],
      "source": [
        "# Importing Necessary Libraries\n",
        "\n",
        "from torchvision import datasets\n",
        "from torch.utils.data import DataLoader\n",
        "import torchvision.transforms as T\n",
        "import matplotlib.pyplot as plt\n",
        "from torchvision.utils import make_grid\n",
        "import os\n",
        "\n",
        "\n",
        "# Defining path and paramters\n",
        "Dataset_Path =  \"pathname of your dataset\"\n",
        "Batch_Size   =  32                                   # Define Batch-Size\n",
        "Image_Height  = 108                                  # Define height of resize image if you don't want to resize just dont deine height and width\n",
        "Image_Width   = 162                                  # Define width of resize image\n",
        "num_workers   = os.cpu_count()                       # It automatically tell the number of possible parallel processes\n",
        "\n",
        "\n",
        "# Defining transformation during loading data of images\n",
        "Transform = T.Compose(\n",
        "    [\n",
        "        T.ToTensor(),\n",
        "        T.Resize((Image_Height, Image_Width)),\n",
        "    ]\n",
        ")\n",
        "\n",
        "# Loading the images data\n",
        "Images_Data = datasets.ImageFolder(Dataset_Path, transform=Transform)\n",
        "\n",
        "\n",
        "\n",
        "Images_DataLoader = DataLoader(Images_Data,\n",
        "                              batch_size=Batch_Size,\n",
        "                              num_workers=num_workers,\n",
        "                              shuffle=True)\n",
        "\n",
        "# Displaying the single batch\n",
        "\n",
        "for batch in Images_DataLoader:\n",
        "\n",
        "    single_batch = batch\n",
        "    images, labels = single_batch\n",
        "    concatenated_images = make_grid(images, nrow=int(Batch_Size ** 0.5), normalize=True)\n",
        "\n",
        "    # Convert the tensor to a NumPy array and transpose the dimensions\n",
        "    concatenated_images = concatenated_images.permute(1, 2, 0).numpy()\n",
        "\n",
        "    plt.figure()\n",
        "    # Display the concatenated image\n",
        "    plt.imshow(concatenated_images)\n",
        "    plt.axis('off')\n",
        "    plt.show()\n",
        "    break\n"
      ]
    },
    {
      "cell_type": "code",
      "source": [
        "# Defining the separate variable for images and their labels\n",
        "\n",
        "images, labels = single_batch\n",
        "\n",
        "# Here you can name you classes name, while demo names are declared, the classes can be increase depend upon your problem\n",
        "\n",
        "classes = ['class-1', 'class-2' , 'class-3' , 'class-4']\n",
        "\n",
        "# Reading a single image from the batch\n",
        "image = images[2,:,:,:]\n",
        "\n",
        "# Getting the true lable of the read image\n",
        "label = classes[labels[2]]\n",
        "\n",
        "# Plotting the single image from the batch\n",
        "plt.figure\n",
        "plt.imshow(image.permute(1,2,0).numpy())\n",
        "plt.axis('off')\n",
        "plt.title(f'{label}')\n",
        "plt.show()\n"
      ],
      "metadata": {
        "id": "1Ss1JX9vKNon"
      },
      "execution_count": null,
      "outputs": []
    }
  ]
}